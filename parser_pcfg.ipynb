{
 "cells": [
  {
   "cell_type": "markdown",
   "metadata": {},
   "source": [
    "# Basic PCFG parser\n",
    "This parser is implemented by basic PCFG without any preprocessing(ex. replace rare word). It is suggested to do any preprocess of data to get better performance Following are the file format\n",
    "\n",
    "### input:\n",
    "* 2 NONTERMINAL ADVP+ADJ\n",
    "* 3 UNARYRULE NOUN British\n",
    "* 164 BINARYRULE WHNP DET NP\n",
    "\n",
    "the first indicates the nonterminal ADvp+ADJ was seen 2 times in training data<br>\n",
    "the second indicates the UNARYRULE(X->Y) Noun->British was seen 3 times <br>\n",
    "the final line indicate the BINARYRULE(X->Y+Z) when->DET+NP was seen 164 times<br>\n",
    "in the training data\n",
    "\n",
    "### sent:\n",
    "json format:\n",
    "[\"SBARQ\", \n",
    "[\"WHNP+PRON\", \"What\"], [\"SBARQ\", [\"SQ\", [\"VERB\", \"is\"], [\"NP\", [\"ADJ\", \"blue\"], [\"NOUN\", \"power\"]]], [\".\", \"?\"]]]"
   ]
  },
  {
   "cell_type": "code",
   "execution_count": 2,
   "metadata": {
    "collapsed": false
   },
   "outputs": [],
   "source": [
    "from __future__ import division\n",
    "import json,sys\n",
    "from collections import defaultdict"
   ]
  },
  {
   "cell_type": "code",
   "execution_count": 2,
   "metadata": {
    "collapsed": false
   },
   "outputs": [],
   "source": [
    "#The basic PCFG module\n",
    "class PCFG:\n",
    "    def __init__(self, nonterms,bin_rules,unary_rules,words):\n",
    "        self.nonterms=dict(nonterms)\n",
    "        self.bin_rules=dict(bin_rules)\n",
    "        self.unary_rules=dict(unary_rules)\n",
    "        self.words=words\n",
    "        \n",
    "        self.bin_rule_table={}\n",
    "        \n",
    "        for (a,b,c),count in bin_rules:\n",
    "            self.bin_rule_table.setdefault(a,[])\n",
    "            self.bin_rule_table[a].append((b,c))\n",
    "    \n",
    "    def nonterminals(self):\n",
    "        return self.nonterms.keys()\n",
    "    \n",
    "    def has_unary(self,nonterm,word):\n",
    "        return (nonterm,word) in self.unary_rules\n",
    "    \n",
    "    def rules(self,a):\n",
    "        return [(a,b,c) for b,c in self.bin_rule_table.get(a,[])]\n",
    "    \n",
    "    def binary_rule_prob(self,r):\n",
    "        return self.bin_rules[r]/self.nonterms[r[0]]\n",
    "    \n",
    "    def unary_rule_prob(self,r):\n",
    "        return self.unary_rules[r]/self.nonterms[r[0]]\n",
    "    \n",
    "    \n",
    "    @staticmethod  \n",
    "    def read_data(handle):\n",
    "        nonterms=[]\n",
    "        bin_rules=[]\n",
    "        unary_rules=[]\n",
    "        words={}\n",
    "        \n",
    "        for l in handle:\n",
    "            t=l.strip().split()\n",
    "            #print t\n",
    "            count=float(t[0])\n",
    "            \n",
    "            if t[1]==\"NONTERMINAL\":\n",
    "                nonterms.append((t[2],count))\n",
    "            if t[1]==\"BINARYRULE\":\n",
    "                bin_rules.append(((t[2],t[3],t[4]),count))\n",
    "            if t[1]==\"UNARYRULE\":\n",
    "                unary_rules.append(((t[2],t[3]),count))\n",
    "                words.setdefault(t[3],0)\n",
    "                words[t[3]]+=count \n",
    "        return PCFG(nonterms,bin_rules,unary_rules,words)"
   ]
  },
  {
   "cell_type": "code",
   "execution_count": 7,
   "metadata": {
    "collapsed": false
   },
   "outputs": [],
   "source": [
    "def argmax(ls):\n",
    "    if not ls:\n",
    "        return None,0.0\n",
    "    else:\n",
    "        return max(ls,key=lambda x:x[1])\n",
    "\n",
    "def backtrace(back,bp):\n",
    "    if not back: return None\n",
    "    if len(back)==6:\n",
    "        (X,Y,Z,i,s,j)=back\n",
    "        return [X,backtrace(bp[i,s,Y],bp),backtrace(bp[s+1,j,Z],bp)]\n",
    "    else:\n",
    "        (X,Y,i,i)=back\n",
    "        return [X,Y]"
   ]
  },
  {
   "cell_type": "code",
   "execution_count": 41,
   "metadata": {
    "collapsed": false
   },
   "outputs": [],
   "source": [
    "#CKY algorithm\n",
    "def CKY(pcfg,sentence):\n",
    "    n=len(sentence)\n",
    "    N=pcfg.nonterminals()\n",
    "    x=[\"\"]+sentence\n",
    "    #print x\n",
    "    def q1(X,Y):return pcfg.unary_rule_prob((X,Y))\n",
    "    def q2(X,Y,Z):return pcfg.binary_rule_prob((X,Y,Z))\n",
    "    \n",
    "    pi=defaultdict(float)\n",
    "    bp={}\n",
    "    \n",
    "    for i in range(1,n+1):\n",
    "        for X in N:\n",
    "            if pcfg.has_unary(X,x[i]):\n",
    "                pi[i,i,X]=q1(X,x[i])\n",
    "                bp[i,i,X]=(X,x[i],i,i)\n",
    "\n",
    "    for l in range(1,n):\n",
    "        for i in range(1,n-l+1):\n",
    "            \n",
    "            j=i+l\n",
    "            for X in N: \n",
    "                back,score=argmax([((X,Y,Z,i,s,j),q2(X,Y,Z)*pi[i,s,Y]*pi[s+1,j,Z])\\\n",
    "                                   for s in range(i,j)\\\n",
    "                                   for X,Y,Z in pcfg.rules(X)\n",
    "                                   if pi.get((i,s,Y),0.0)>0.0\\\n",
    "                                   if pi.get((s+1,j,Z),0.0)>0.0\\\n",
    "                                   ])\n",
    "                if score>0.0:\n",
    "                    bp[i,j,X],pi[i,j,X]=back,score\n",
    "    # S is the special start symbol              \n",
    "    if (1,n,\"S\") in pi:\n",
    "        tree=backtrace(bp[1,n,\"S\"],bp)\n",
    "        return tree   "
   ]
  },
  {
   "cell_type": "code",
   "execution_count": 1,
   "metadata": {
    "collapsed": false
   },
   "outputs": [
    {
     "ename": "NameError",
     "evalue": "name 'sys' is not defined",
     "output_type": "error",
     "traceback": [
      "\u001b[1;31m---------------------------------------------------------------------------\u001b[0m",
      "\u001b[1;31mNameError\u001b[0m                                 Traceback (most recent call last)",
      "\u001b[1;32m<ipython-input-1-7c51186579a2>\u001b[0m in \u001b[0;36m<module>\u001b[1;34m()\u001b[0m\n\u001b[0;32m      8\u001b[0m \u001b[1;33m\u001b[0m\u001b[0m\n\u001b[0;32m      9\u001b[0m \u001b[1;32mif\u001b[0m \u001b[0m__name__\u001b[0m\u001b[1;33m==\u001b[0m\u001b[1;34m\"__main__\"\u001b[0m\u001b[1;33m:\u001b[0m\u001b[1;33m\u001b[0m\u001b[0m\n\u001b[1;32m---> 10\u001b[1;33m     \u001b[0mmain\u001b[0m\u001b[1;33m(\u001b[0m\u001b[0msys\u001b[0m\u001b[1;33m.\u001b[0m\u001b[0margv\u001b[0m\u001b[1;33m[\u001b[0m\u001b[1;36m1\u001b[0m\u001b[1;33m]\u001b[0m\u001b[1;33m,\u001b[0m\u001b[0msys\u001b[0m\u001b[1;33m.\u001b[0m\u001b[0margv\u001b[0m\u001b[1;33m[\u001b[0m\u001b[1;36m2\u001b[0m\u001b[1;33m]\u001b[0m\u001b[1;33m,\u001b[0m\u001b[0msys\u001b[0m\u001b[1;33m.\u001b[0m\u001b[0margv\u001b[0m\u001b[1;33m[\u001b[0m\u001b[1;36m3\u001b[0m\u001b[1;33m]\u001b[0m\u001b[1;33m)\u001b[0m\u001b[1;33m\u001b[0m\u001b[0m\n\u001b[0m",
      "\u001b[1;31mNameError\u001b[0m: name 'sys' is not defined"
     ]
    }
   ],
   "source": [
    "def main(mode,count_file,sent_file):\n",
    "    \n",
    "    pcfg=PCFG.read_data(open(count_file))\n",
    "    for i,l in enumerate(open(sent_file)):\n",
    "        sentence=replace_rare_sentence(pcfg,l.strip().split())\n",
    "        parse=CKY(pcfg,sentence)\n",
    "        print json.dumps(parse)\n",
    "\n",
    "if __name__==\"__main__\":\n",
    "    main(sys.argv[1],sys.argv[2],sys.argv[3])"
   ]
  },
  {
   "cell_type": "code",
   "execution_count": null,
   "metadata": {
    "collapsed": true
   },
   "outputs": [],
   "source": []
  }
 ],
 "metadata": {
  "kernelspec": {
   "display_name": "Python 2",
   "language": "python",
   "name": "python2"
  },
  "language_info": {
   "codemirror_mode": {
    "name": "ipython",
    "version": 2
   },
   "file_extension": ".py",
   "mimetype": "text/x-python",
   "name": "python",
   "nbconvert_exporter": "python",
   "pygments_lexer": "ipython2",
   "version": "2.7.11"
  }
 },
 "nbformat": 4,
 "nbformat_minor": 0
}
