{
 "cells": [
  {
   "cell_type": "markdown",
   "metadata": {},
   "source": [
    "## Basic Trigram HMM tagger"
   ]
  },
  {
   "cell_type": "code",
   "execution_count": 1,
   "metadata": {
    "collapsed": true
   },
   "outputs": [],
   "source": [
    "from collections import defaultdict"
   ]
  },
  {
   "cell_type": "code",
   "execution_count": 2,
   "metadata": {
    "collapsed": false
   },
   "outputs": [
    {
     "name": "stdout",
     "output_type": "stream",
     "text": [
      "['1', 'WORDTAG', 'O', 'mind']\n",
      "['20', 'WORDTAG', 'O', 'resting']\n",
      "['1', 'WORDTAG', 'I-GENE', 'SOX']\n",
      "['2', 'WORDTAG', 'I-GENE', 'holoenzyme']\n",
      "['2', 'WORDTAG', 'I-GENE', 'hydrolase']\n",
      "['2', 'WORDTAG', 'I-GENE', 'barley']\n"
     ]
    }
   ],
   "source": [
    "with open('gene.counts') as f:\n",
    "    l=0\n",
    "    for line in f:\n",
    "        print line.strip().split( )\n",
    "        l+=1\n",
    "        if l>5:break"
   ]
  },
  {
   "cell_type": "code",
   "execution_count": 3,
   "metadata": {
    "collapsed": true
   },
   "outputs": [],
   "source": [
    "class HMM:\n",
    "    def __init__(self,handle):\n",
    "        self.words=defaultdict(float)\n",
    "        self.ngrams={1:{},2:{},3:{}}\n",
    "        self.word_counts=defaultdict(float)\n",
    "        \n",
    "        for l in handle:\n",
    "            t=l.strip().split(\" \")\n",
    "            count=int(t[0])\n",
    "            keys=tuple(t[2:])\n",
    "            \n",
    "            if t[1]=='1-GRAM':self.ngrams[1][keys[0]]=count\n",
    "            elif t[1]=='2-GRAM':self.ngrams[2][keys]=count\n",
    "            elif t[1]=='3-GRAM':self.ngrams[3][keys]=count\n",
    "            elif t[1]=='WORDTAG':\n",
    "                if count<5.0:\n",
    "                    r_k=list(keys)\n",
    "                    r_k[1]='_RARE_'\n",
    "                    r_k=tuple(r_k)\n",
    "                    self.words[r_k]+=count\n",
    "                    self.word_counts[r_k[1]]+=count\n",
    "                else:\n",
    "                    self.words[keys]=count\n",
    "                    self.word_counts[keys[1]]+=count\n",
    "                    \n",
    "    def tags(self):\n",
    "        return self.ngrams[1].keys()\n",
    "    \n",
    "    def word_count(self,word):\n",
    "        return self.word_counts.get(word,0.0)\n",
    "    \n",
    "    def trigram_prob(self,trigram):\n",
    "        bigram=trigram[:-1]\n",
    "        return self.ngrams[3].get(trigram,0.0)/float(self.ngrams[2].get(bigram))\n",
    "    \n",
    "    def emmisoin_prob(self,word,tag):\n",
    "        if tag in ['*','STOP']: return 0.0\n",
    "        new_word=self.replace_word(word)\n",
    "        return self.words.get((tag,new_word),0.0)/float(self.ngrams[1][tag])\n",
    "    \n",
    "    def replace_word(self,word):\n",
    "        if self.word_count(word)<5.0: return '_RARE_'\n",
    "        else:\n",
    "            return word"
   ]
  },
  {
   "cell_type": "code",
   "execution_count": 4,
   "metadata": {
    "collapsed": true
   },
   "outputs": [],
   "source": [
    "def argmax(ls):\n",
    "    return max(ls,key=lambda x:x[1])"
   ]
  },
  {
   "cell_type": "code",
   "execution_count": 14,
   "metadata": {
    "collapsed": false
   },
   "outputs": [],
   "source": [
    "f=open('gene.counts','r')"
   ]
  },
  {
   "cell_type": "code",
   "execution_count": 9,
   "metadata": {
    "collapsed": true
   },
   "outputs": [],
   "source": [
    "f.close()"
   ]
  },
  {
   "cell_type": "code",
   "execution_count": 10,
   "metadata": {
    "collapsed": false
   },
   "outputs": [],
   "source": [
    "with open('gene.test') as ft:\n",
    "    sen=[]\n",
    "    tmp=[]\n",
    "    for l in ft:\n",
    "        if l!='\\n':\n",
    "            tmp.append(l.strip())\n",
    "        else:\n",
    "            sen.append(tmp)\n",
    "            tmp=[]"
   ]
  },
  {
   "cell_type": "code",
   "execution_count": 6,
   "metadata": {
    "collapsed": false
   },
   "outputs": [],
   "source": [
    "def unigram(hmm,sentence):\n",
    "    K=hmm.tags()\n",
    "    return argmax([(y,hmm.emmisoin_prob(sentence,y))for y in K])[0]"
   ]
  },
  {
   "cell_type": "code",
   "execution_count": 7,
   "metadata": {
    "collapsed": true
   },
   "outputs": [],
   "source": [
    "def argmax(ls):\n",
    "    return max(ls,key=lambda x:x[1])"
   ]
  },
  {
   "cell_type": "code",
   "execution_count": 12,
   "metadata": {
    "collapsed": false
   },
   "outputs": [],
   "source": [
    "def viterbi(hmm,sentence):\n",
    "    \n",
    "    def K(k):\n",
    "        if k in (-1,0):\n",
    "            return '*'\n",
    "        else:\n",
    "            return hmm.tags()\n",
    "    n=len(sentence)\n",
    "    x=[\"\"]+sentence\n",
    "    y=[\"\"]*(n+1)\n",
    "    \n",
    "    \n",
    "    pi={}\n",
    "    pi[0,'*','*']=1.0\n",
    "    bp={}\n",
    "    \n",
    "    for k in range(1,n+1):\n",
    "        #print \"k: \"+str(k)\n",
    "        for u in K(k-1):\n",
    "            #print \"u: \",u\n",
    "            for v in K(k):\n",
    "                #print \"v: \",v\n",
    "                bp[k,u,v],pi[k,u,v]=argmax([(w,pi[k-1,w,u]*hmm.trigram_prob((w,u,v))*hmm.emmisoin_prob(x[k],v)) for w in K(k-2)])\n",
    "                #print pi[k,u,v]\n",
    "                #hh=[(w,pi[k-1,w,u]*hmm.trigram_prob((w,u,v))*hmm.emmisoin_prob(x[k],v)) for w in K(k-2)]\n",
    "                #print hh\n",
    "                \n",
    "    (y[n-1],y[n]),score=argmax([((u,v),pi[n,u,v]*hmm.trigram_prob((u,v,'STOP'))) for u in K(n-1) for v in K(n)])\n",
    "    for k in range(n-2,0,-1):\n",
    "        y[k]=bp[k+2,y[k+1],y[k+2]]\n",
    "    y[0]='*'\n",
    "    \n",
    "    scores=[pi[i,y[i-1],y[i]] for i in range(1,n)]\n",
    "    return y[1:n+1], scores+[score]"
   ]
  },
  {
   "cell_type": "code",
   "execution_count": 15,
   "metadata": {
    "collapsed": false
   },
   "outputs": [],
   "source": [
    "h=HMM(f)"
   ]
  },
  {
   "cell_type": "code",
   "execution_count": 21,
   "metadata": {
    "collapsed": false
   },
   "outputs": [],
   "source": [
    "viterbi(h,sen[1])"
   ]
  }
 ],
 "metadata": {
  "kernelspec": {
   "display_name": "Python 2",
   "language": "python",
   "name": "python2"
  },
  "language_info": {
   "codemirror_mode": {
    "name": "ipython",
    "version": 2
   },
   "file_extension": ".py",
   "mimetype": "text/x-python",
   "name": "python",
   "nbconvert_exporter": "python",
   "pygments_lexer": "ipython2",
   "version": "2.7.11"
  }
 },
 "nbformat": 4,
 "nbformat_minor": 0
}
